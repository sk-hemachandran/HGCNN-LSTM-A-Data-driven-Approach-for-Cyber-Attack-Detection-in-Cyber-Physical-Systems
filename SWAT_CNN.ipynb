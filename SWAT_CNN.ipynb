{
  "nbformat": 4,
  "nbformat_minor": 0,
  "metadata": {
    "colab": {
      "provenance": [],
      "mount_file_id": "1F-KjM5olrnabW8hNAM4swJbbucy1Bwwn",
      "authorship_tag": "ABX9TyOVLiMjIO3/S+OcXMpmwnov",
      "include_colab_link": true
    },
    "kernelspec": {
      "name": "python3",
      "display_name": "Python 3"
    },
    "language_info": {
      "name": "python"
    }
  },
  "cells": [
    {
      "cell_type": "markdown",
      "metadata": {
        "id": "view-in-github",
        "colab_type": "text"
      },
      "source": [
        "<a href=\"https://colab.research.google.com/github/AbiXnash/HGCNN-LSTM-A-Data-driven-Approach-for-Cyber-Attack-Detection-in-Cyber-Physical-Systems/blob/main/SWAT_CNN.ipynb\" target=\"_parent\"><img src=\"https://colab.research.google.com/assets/colab-badge.svg\" alt=\"Open In Colab\"/></a>"
      ]
    },
    {
      "cell_type": "code",
      "source": [
        "#import required packages\n",
        "from sklearn.metrics import precision_recall_fscore_support, accuracy_score, confusion_matrix\n",
        "import numpy as np\n",
        "from sklearn.preprocessing import StandardScaler\n",
        "from sklearn.model_selection import StratifiedShuffleSplit, train_test_split\n",
        "from keras.models import Sequential\n",
        "from keras.layers import Dense, Activation, Flatten, Conv1D, Dropout\n",
        "from keras.optimizers import SGD\n",
        "\n",
        "# from keras.utils import np_utils\n",
        "import csv\n",
        "from sklearn import preprocessing\n",
        "from numpy import linalg as LA\n",
        "from imblearn.under_sampling import RandomUnderSampler\n",
        "import matplotlib.pyplot as plt\n",
        "import time"
      ],
      "metadata": {
        "id": "Bb64u10jSEpK"
      },
      "execution_count": null,
      "outputs": []
    },
    {
      "cell_type": "code",
      "source": [
        "# Load data\n",
        "datafile = open('/content/drive/MyDrive/Colab Notebooks/SWaT_Dataset_Attack_v0.csv', 'r')\n",
        "datareader = csv.reader(datafile, delimiter=',')\n",
        "data = []\n",
        "label = []"
      ],
      "metadata": {
        "id": "pAGF1fe1SHJR"
      },
      "execution_count": null,
      "outputs": []
    },
    {
      "cell_type": "code",
      "source": [
        "# Extract even number of Normal and Attack samples with labels as binary classes\n",
        "for row in datareader:\n",
        "    if 'Normal' in row:\n",
        "        data.append(row[2:-1])\n",
        "        label.append(0)\n",
        "    if 'Attack' in row:\n",
        "        data.append(row[2:-1])\n",
        "        label.append(1)"
      ],
      "metadata": {
        "id": "GmY2a9u9SKGl"
      },
      "execution_count": null,
      "outputs": []
    },
    {
      "cell_type": "code",
      "source": [
        "features = len(data[0])"
      ],
      "metadata": {
        "id": "rr45PyAdSOGe"
      },
      "execution_count": null,
      "outputs": []
    },
    {
      "cell_type": "code",
      "source": [
        "# Convert the list to numpy array of float type\n",
        "dataset = np.array(data).astype(float)\n",
        "label = np.array(label).astype(float)"
      ],
      "metadata": {
        "id": "tWl4zk0aSRPR"
      },
      "execution_count": null,
      "outputs": []
    },
    {
      "cell_type": "code",
      "source": [],
      "metadata": {
        "id": "Je2KjlXyl5AD"
      },
      "execution_count": null,
      "outputs": []
    },
    {
      "cell_type": "code",
      "source": [
        "# Undersample the dataset to balance classes\n",
        "dataset, label = RandomUnderSampler(random_state=42).fit_resample(dataset, label)"
      ],
      "metadata": {
        "id": "vgN4PLX0SUss"
      },
      "execution_count": null,
      "outputs": []
    },
    {
      "cell_type": "code",
      "source": [
        "# Standardize the dataset\n",
        "dataset = preprocessing.scale(dataset)"
      ],
      "metadata": {
        "colab": {
          "base_uri": "https://localhost:8080/"
        },
        "id": "vO4ZWQMFSWbY",
        "outputId": "849c4c9a-e063-4051-cb67-7313dee8cf0c"
      },
      "execution_count": null,
      "outputs": [
        {
          "output_type": "stream",
          "name": "stderr",
          "text": [
            "/usr/local/lib/python3.10/dist-packages/sklearn/preprocessing/_data.py:259: UserWarning: Numerical issues were encountered when scaling the data and might not be solved. The standard deviation of the data is probably very close to 0. \n",
            "  warnings.warn(\n"
          ]
        }
      ]
    },
    {
      "cell_type": "code",
      "source": [
        "# Perform PCA dimensionality reduction\n",
        "cov_matrix = np.cov(dataset, rowvar=False)\n",
        "eigenvalues, eigenvectors = LA.eig(cov_matrix)\n",
        "V = eigenvectors[:, 1:]  # Exclude the eigenvector with zero eigenvalue\n",
        "print(\"\\nPCA eliminated features:\", 1, \"\\n\")\n",
        "reduced_data = np.matmul(V.T, dataset.T).T"
      ],
      "metadata": {
        "colab": {
          "base_uri": "https://localhost:8080/"
        },
        "id": "yXlWKc-ASYFD",
        "outputId": "9c8d1768-b92e-4c90-bce1-bbbe8e1f293a"
      },
      "execution_count": null,
      "outputs": [
        {
          "output_type": "stream",
          "name": "stdout",
          "text": [
            "\n",
            "PCA eliminated features: 1 \n",
            "\n"
          ]
        }
      ]
    },
    {
      "cell_type": "code",
      "source": [
        "# Standardize the reduced dataset\n",
        "reduced_data = preprocessing.scale(reduced_data)"
      ],
      "metadata": {
        "id": "6HRBNJTVSa3K"
      },
      "execution_count": null,
      "outputs": []
    },
    {
      "cell_type": "code",
      "source": [
        "# Split the data into train and test sets\n",
        "train_data, test_data, train_label, test_label = train_test_split(reduced_data, label, test_size=0.2, shuffle=True)"
      ],
      "metadata": {
        "id": "PdgxVu8TSdZW"
      },
      "execution_count": null,
      "outputs": []
    },
    {
      "cell_type": "code",
      "source": [
        "# Reshape data for CNN\n",
        "train_x = train_data[:, :, np.newaxis]\n",
        "test_x = test_data[:, :, np.newaxis]"
      ],
      "metadata": {
        "id": "v9uQ5Kq1Sf1_"
      },
      "execution_count": null,
      "outputs": []
    },
    {
      "cell_type": "code",
      "source": [
        "# Set model parameters\n",
        "lr1, decay1, dp, mom = 0.5, 0.33, 0.03, 0.5\n",
        "nb_class = 2\n",
        "nb_epoch = 50"
      ],
      "metadata": {
        "id": "Q7ZDA3JaSiD8"
      },
      "execution_count": null,
      "outputs": []
    },
    {
      "cell_type": "code",
      "source": [
        "from keras.utils import to_categorical\n",
        "\n",
        "# Convert labels to categorical\n",
        "train_y = to_categorical(train_label, nb_class)\n",
        "test_y = to_categorical(test_label, nb_class)"
      ],
      "metadata": {
        "id": "nqWnBXtxSmsh"
      },
      "execution_count": null,
      "outputs": []
    },
    {
      "cell_type": "code",
      "source": [
        "from keras.layers import Conv1D\n",
        "\n",
        "# Build CNN model\n",
        "model = Sequential()\n",
        "model.add(Conv1D(filters=features-1, kernel_size=1, input_shape=(features-1, 1)))\n",
        "model.add(Activation('tanh'))\n",
        "model.add(Flatten())\n",
        "model.add(Dropout(dp))\n",
        "model.add(Dense(200, activation='relu'))\n",
        "model.add(Dense(100, activation='relu'))\n",
        "model.add(Dropout(dp))\n",
        "model.add(Dense(50, activation='relu'))\n",
        "model.add(Dense(nb_class))\n",
        "model.add(Activation('softmax'))"
      ],
      "metadata": {
        "id": "30_iEjOVSpb-"
      },
      "execution_count": null,
      "outputs": []
    },
    {
      "cell_type": "code",
      "source": [
        "from keras.optimizers import SGD\n",
        "\n",
        "# Compile the model\n",
        "sgd = SGD(learning_rate=lr1, momentum=mom, nesterov=True)\n",
        "model.compile(loss='categorical_crossentropy', optimizer=sgd, metrics=['acc', 'mse'])\n"
      ],
      "metadata": {
        "id": "9_gr5tU_Ssv3"
      },
      "execution_count": null,
      "outputs": []
    },
    {
      "cell_type": "code",
      "source": [
        "model.summary()"
      ],
      "metadata": {
        "colab": {
          "base_uri": "https://localhost:8080/"
        },
        "id": "ewrO13S0N0kz",
        "outputId": "21a8728b-f745-4a36-e6e7-6fa1beb8c725"
      },
      "execution_count": null,
      "outputs": [
        {
          "output_type": "stream",
          "name": "stdout",
          "text": [
            "Model: \"sequential_2\"\n",
            "_________________________________________________________________\n",
            " Layer (type)                Output Shape              Param #   \n",
            "=================================================================\n",
            " conv1d_1 (Conv1D)           (None, 49, 49)            98        \n",
            "                                                                 \n",
            " activation_1 (Activation)   (None, 49, 49)            0         \n",
            "                                                                 \n",
            " flatten_1 (Flatten)         (None, 2401)              0         \n",
            "                                                                 \n",
            " dropout (Dropout)           (None, 2401)              0         \n",
            "                                                                 \n",
            " dense (Dense)               (None, 200)               480400    \n",
            "                                                                 \n",
            " dense_1 (Dense)             (None, 100)               20100     \n",
            "                                                                 \n",
            " dropout_1 (Dropout)         (None, 100)               0         \n",
            "                                                                 \n",
            " dense_2 (Dense)             (None, 50)                5050      \n",
            "                                                                 \n",
            " dense_3 (Dense)             (None, 2)                 102       \n",
            "                                                                 \n",
            " activation_2 (Activation)   (None, 2)                 0         \n",
            "                                                                 \n",
            "=================================================================\n",
            "Total params: 505750 (1.93 MB)\n",
            "Trainable params: 505750 (1.93 MB)\n",
            "Non-trainable params: 0 (0.00 Byte)\n",
            "_________________________________________________________________\n"
          ]
        }
      ]
    },
    {
      "cell_type": "code",
      "source": [
        "# Train the model\n",
        "t1 = time.time()\n",
        "history = model.fit(train_x, train_y, validation_split=0.2, epochs=nb_epoch, batch_size=256)\n",
        "t2 = time.time()\n",
        "print(\"Time:\", t2-t1)"
      ],
      "metadata": {
        "colab": {
          "base_uri": "https://localhost:8080/"
        },
        "id": "30LzJDDqSt1_",
        "outputId": "3c4544b3-9212-4d56-b9f0-232003abf056"
      },
      "execution_count": null,
      "outputs": [
        {
          "output_type": "stream",
          "name": "stdout",
          "text": [
            "Epoch 1/50\n",
            "273/273 [==============================] - 7s 22ms/step - loss: 0.1001 - acc: 0.9586 - mse: 0.0295 - val_loss: 0.0458 - val_acc: 0.9833 - val_mse: 0.0126\n",
            "Epoch 2/50\n",
            "273/273 [==============================] - 6s 22ms/step - loss: 0.0399 - acc: 0.9852 - mse: 0.0110 - val_loss: 0.0437 - val_acc: 0.9815 - val_mse: 0.0131\n",
            "Epoch 3/50\n",
            "273/273 [==============================] - 6s 21ms/step - loss: 0.0291 - acc: 0.9894 - mse: 0.0081 - val_loss: 0.0267 - val_acc: 0.9900 - val_mse: 0.0076\n",
            "Epoch 4/50\n",
            "273/273 [==============================] - 6s 21ms/step - loss: 0.0246 - acc: 0.9911 - mse: 0.0068 - val_loss: 0.0199 - val_acc: 0.9937 - val_mse: 0.0052\n",
            "Epoch 5/50\n",
            "273/273 [==============================] - 6s 22ms/step - loss: 0.0202 - acc: 0.9927 - mse: 0.0055 - val_loss: 0.0213 - val_acc: 0.9928 - val_mse: 0.0054\n",
            "Epoch 6/50\n",
            "273/273 [==============================] - 6s 21ms/step - loss: 0.0180 - acc: 0.9935 - mse: 0.0050 - val_loss: 0.0175 - val_acc: 0.9935 - val_mse: 0.0049\n",
            "Epoch 7/50\n",
            "273/273 [==============================] - 6s 22ms/step - loss: 0.0164 - acc: 0.9942 - mse: 0.0045 - val_loss: 0.0241 - val_acc: 0.9924 - val_mse: 0.0064\n",
            "Epoch 8/50\n",
            "273/273 [==============================] - 6s 21ms/step - loss: 0.0150 - acc: 0.9946 - mse: 0.0042 - val_loss: 0.0182 - val_acc: 0.9944 - val_mse: 0.0044\n",
            "Epoch 9/50\n",
            "273/273 [==============================] - 6s 22ms/step - loss: 0.0148 - acc: 0.9947 - mse: 0.0041 - val_loss: 0.0148 - val_acc: 0.9958 - val_mse: 0.0037\n",
            "Epoch 10/50\n",
            "273/273 [==============================] - 6s 21ms/step - loss: 0.0132 - acc: 0.9953 - mse: 0.0036 - val_loss: 0.0143 - val_acc: 0.9950 - val_mse: 0.0036\n",
            "Epoch 11/50\n",
            "273/273 [==============================] - 6s 21ms/step - loss: 0.0128 - acc: 0.9954 - mse: 0.0036 - val_loss: 0.0137 - val_acc: 0.9960 - val_mse: 0.0033\n",
            "Epoch 12/50\n",
            "273/273 [==============================] - 6s 22ms/step - loss: 0.0124 - acc: 0.9958 - mse: 0.0033 - val_loss: 0.0153 - val_acc: 0.9956 - val_mse: 0.0036\n",
            "Epoch 13/50\n",
            "273/273 [==============================] - 6s 21ms/step - loss: 0.0109 - acc: 0.9961 - mse: 0.0030 - val_loss: 0.0159 - val_acc: 0.9947 - val_mse: 0.0039\n",
            "Epoch 14/50\n",
            "273/273 [==============================] - 6s 22ms/step - loss: 0.0116 - acc: 0.9960 - mse: 0.0031 - val_loss: 0.0142 - val_acc: 0.9949 - val_mse: 0.0037\n",
            "Epoch 15/50\n",
            "273/273 [==============================] - 6s 22ms/step - loss: 0.0099 - acc: 0.9964 - mse: 0.0028 - val_loss: 0.0151 - val_acc: 0.9956 - val_mse: 0.0035\n",
            "Epoch 16/50\n",
            "273/273 [==============================] - 6s 22ms/step - loss: 0.0103 - acc: 0.9962 - mse: 0.0029 - val_loss: 0.0127 - val_acc: 0.9965 - val_mse: 0.0028\n",
            "Epoch 17/50\n",
            "273/273 [==============================] - 6s 22ms/step - loss: 0.0098 - acc: 0.9965 - mse: 0.0027 - val_loss: 0.0151 - val_acc: 0.9958 - val_mse: 0.0033\n",
            "Epoch 18/50\n",
            "273/273 [==============================] - 6s 23ms/step - loss: 0.0096 - acc: 0.9966 - mse: 0.0026 - val_loss: 0.0127 - val_acc: 0.9960 - val_mse: 0.0031\n",
            "Epoch 19/50\n",
            "273/273 [==============================] - 6s 23ms/step - loss: 0.0091 - acc: 0.9969 - mse: 0.0025 - val_loss: 0.0111 - val_acc: 0.9972 - val_mse: 0.0024\n",
            "Epoch 20/50\n",
            "273/273 [==============================] - 6s 22ms/step - loss: 0.0086 - acc: 0.9969 - mse: 0.0024 - val_loss: 0.0126 - val_acc: 0.9963 - val_mse: 0.0028\n",
            "Epoch 21/50\n",
            "273/273 [==============================] - 6s 22ms/step - loss: 0.0088 - acc: 0.9967 - mse: 0.0025 - val_loss: 0.0134 - val_acc: 0.9956 - val_mse: 0.0032\n",
            "Epoch 22/50\n",
            "273/273 [==============================] - 6s 20ms/step - loss: 0.0080 - acc: 0.9972 - mse: 0.0022 - val_loss: 0.0122 - val_acc: 0.9959 - val_mse: 0.0028\n",
            "Epoch 23/50\n",
            "273/273 [==============================] - 6s 22ms/step - loss: 0.0073 - acc: 0.9974 - mse: 0.0020 - val_loss: 0.0096 - val_acc: 0.9974 - val_mse: 0.0021\n",
            "Epoch 24/50\n",
            "273/273 [==============================] - 5s 20ms/step - loss: 0.0089 - acc: 0.9969 - mse: 0.0024 - val_loss: 0.0107 - val_acc: 0.9972 - val_mse: 0.0024\n",
            "Epoch 25/50\n",
            "273/273 [==============================] - 6s 22ms/step - loss: 0.0081 - acc: 0.9973 - mse: 0.0022 - val_loss: 0.0194 - val_acc: 0.9953 - val_mse: 0.0039\n",
            "Epoch 26/50\n",
            "273/273 [==============================] - 6s 21ms/step - loss: 0.0085 - acc: 0.9969 - mse: 0.0024 - val_loss: 0.0111 - val_acc: 0.9969 - val_mse: 0.0025\n",
            "Epoch 27/50\n",
            "273/273 [==============================] - 6s 23ms/step - loss: 0.0080 - acc: 0.9973 - mse: 0.0022 - val_loss: 0.0114 - val_acc: 0.9964 - val_mse: 0.0027\n",
            "Epoch 28/50\n",
            "273/273 [==============================] - 6s 21ms/step - loss: 0.0080 - acc: 0.9972 - mse: 0.0022 - val_loss: 0.0135 - val_acc: 0.9962 - val_mse: 0.0030\n",
            "Epoch 29/50\n",
            "273/273 [==============================] - 6s 22ms/step - loss: 0.0073 - acc: 0.9976 - mse: 0.0019 - val_loss: 0.0124 - val_acc: 0.9962 - val_mse: 0.0031\n",
            "Epoch 30/50\n",
            "273/273 [==============================] - 5s 20ms/step - loss: 0.0067 - acc: 0.9977 - mse: 0.0018 - val_loss: 0.0135 - val_acc: 0.9965 - val_mse: 0.0027\n",
            "Epoch 31/50\n",
            "273/273 [==============================] - 6s 23ms/step - loss: 0.0061 - acc: 0.9980 - mse: 0.0016 - val_loss: 0.0112 - val_acc: 0.9971 - val_mse: 0.0024\n",
            "Epoch 32/50\n",
            "273/273 [==============================] - 6s 21ms/step - loss: 0.0057 - acc: 0.9980 - mse: 0.0016 - val_loss: 0.0133 - val_acc: 0.9963 - val_mse: 0.0028\n",
            "Epoch 33/50\n",
            "273/273 [==============================] - 6s 23ms/step - loss: 0.0065 - acc: 0.9977 - mse: 0.0018 - val_loss: 0.0125 - val_acc: 0.9970 - val_mse: 0.0024\n",
            "Epoch 34/50\n",
            "273/273 [==============================] - 6s 20ms/step - loss: 0.0068 - acc: 0.9975 - mse: 0.0019 - val_loss: 0.0111 - val_acc: 0.9973 - val_mse: 0.0024\n",
            "Epoch 35/50\n",
            "273/273 [==============================] - 6s 22ms/step - loss: 0.0058 - acc: 0.9981 - mse: 0.0015 - val_loss: 0.0127 - val_acc: 0.9967 - val_mse: 0.0026\n",
            "Epoch 36/50\n",
            "273/273 [==============================] - 5s 20ms/step - loss: 0.0061 - acc: 0.9978 - mse: 0.0017 - val_loss: 0.0110 - val_acc: 0.9969 - val_mse: 0.0023\n",
            "Epoch 37/50\n",
            "273/273 [==============================] - 6s 22ms/step - loss: 0.0058 - acc: 0.9979 - mse: 0.0016 - val_loss: 0.0119 - val_acc: 0.9970 - val_mse: 0.0024\n",
            "Epoch 38/50\n",
            "273/273 [==============================] - 6s 20ms/step - loss: 0.0051 - acc: 0.9982 - mse: 0.0014 - val_loss: 0.0120 - val_acc: 0.9975 - val_mse: 0.0022\n",
            "Epoch 39/50\n",
            "273/273 [==============================] - 6s 22ms/step - loss: 0.0055 - acc: 0.9981 - mse: 0.0015 - val_loss: 0.0093 - val_acc: 0.9978 - val_mse: 0.0019\n",
            "Epoch 40/50\n",
            "273/273 [==============================] - 6s 21ms/step - loss: 0.0050 - acc: 0.9982 - mse: 0.0013 - val_loss: 0.0105 - val_acc: 0.9975 - val_mse: 0.0020\n",
            "Epoch 41/50\n",
            "273/273 [==============================] - 6s 23ms/step - loss: 0.0060 - acc: 0.9981 - mse: 0.0016 - val_loss: 0.0139 - val_acc: 0.9969 - val_mse: 0.0025\n",
            "Epoch 42/50\n",
            "273/273 [==============================] - 6s 20ms/step - loss: 0.0057 - acc: 0.9978 - mse: 0.0016 - val_loss: 0.0122 - val_acc: 0.9970 - val_mse: 0.0025\n",
            "Epoch 43/50\n",
            "273/273 [==============================] - 6s 22ms/step - loss: 0.0049 - acc: 0.9983 - mse: 0.0013 - val_loss: 0.0132 - val_acc: 0.9967 - val_mse: 0.0027\n",
            "Epoch 44/50\n",
            "273/273 [==============================] - 6s 21ms/step - loss: 0.0044 - acc: 0.9983 - mse: 0.0012 - val_loss: 0.0100 - val_acc: 0.9975 - val_mse: 0.0020\n",
            "Epoch 45/50\n",
            "273/273 [==============================] - 6s 23ms/step - loss: 0.0047 - acc: 0.9984 - mse: 0.0013 - val_loss: 0.0116 - val_acc: 0.9971 - val_mse: 0.0023\n",
            "Epoch 46/50\n",
            "273/273 [==============================] - 5s 20ms/step - loss: 0.0059 - acc: 0.9980 - mse: 0.0016 - val_loss: 0.0103 - val_acc: 0.9978 - val_mse: 0.0019\n",
            "Epoch 47/50\n",
            "273/273 [==============================] - 6s 22ms/step - loss: 0.0059 - acc: 0.9979 - mse: 0.0016 - val_loss: 0.0092 - val_acc: 0.9979 - val_mse: 0.0018\n",
            "Epoch 48/50\n",
            "273/273 [==============================] - 6s 20ms/step - loss: 0.0045 - acc: 0.9983 - mse: 0.0013 - val_loss: 0.0116 - val_acc: 0.9971 - val_mse: 0.0022\n",
            "Epoch 49/50\n",
            "273/273 [==============================] - 6s 22ms/step - loss: 0.0046 - acc: 0.9983 - mse: 0.0013 - val_loss: 0.0104 - val_acc: 0.9977 - val_mse: 0.0019\n",
            "Epoch 50/50\n",
            "273/273 [==============================] - 6s 21ms/step - loss: 0.0046 - acc: 0.9984 - mse: 0.0012 - val_loss: 0.0100 - val_acc: 0.9975 - val_mse: 0.0019\n",
            "Time: 322.5447323322296\n"
          ]
        }
      ]
    },
    {
      "cell_type": "code",
      "source": [
        "# Function to test model\n",
        "def test_results(test_x, test_y, model):\n",
        "    result = model.predict(test_x)\n",
        "    predicted_class = np.argmax(result, axis=1)\n",
        "    true_class = np.argmax(test_y, axis=1)\n",
        "    mat = confusion_matrix(true_class, predicted_class)\n",
        "    tp, fn, fp, tn = mat.ravel()\n",
        "    print(\"\\nConfusion Matrix:\\n\")\n",
        "    print(\"TP=\", tp, \"|\", \"TN=\", tn)\n",
        "    print(\"--------------------\")\n",
        "    print(\"FP=\", fp, \"   |\", \"FN=\", fn)\n",
        "    a = accuracy_score(true_class, predicted_class)\n",
        "    print(\"\\nAccuracy score is\", a)\n",
        "    D_rate = tp / (tp + fn)\n",
        "    print(\"\\nDetection rate:\", round(D_rate, 4))\n",
        "    FA_rate = fp / (tn + fp) if (tn + fp) != 0 else 1.0\n",
        "    print(\"\\nFalse alarm rate:\", round(FA_rate, 4))\n",
        "    prc, rcl, fsc, sup = precision_recall_fscore_support(true_class, predicted_class, pos_label=0, average='binary')\n",
        "    print(\"\\nPrecision:\", prc)\n",
        "    print(\"\\nRecall:\", rcl)\n",
        "    print(\"\\nF-score:\", fsc)"
      ],
      "metadata": {
        "id": "gcpSEMqqS01n"
      },
      "execution_count": null,
      "outputs": []
    },
    {
      "cell_type": "code",
      "source": [
        "# Test the model\n",
        "test_results(test_x, test_y, model)"
      ],
      "metadata": {
        "colab": {
          "base_uri": "https://localhost:8080/"
        },
        "id": "QRUcFFSeS3Ms",
        "outputId": "29f53fc9-6fa5-44ac-ffac-92960a8fc52a"
      },
      "execution_count": null,
      "outputs": [
        {
          "output_type": "stream",
          "name": "stdout",
          "text": [
            "683/683 [==============================] - 1s 2ms/step\n",
            "\n",
            "Confusion Matrix:\n",
            "\n",
            "TP= 10845 | TN= 10856\n",
            "--------------------\n",
            "FP= 51    | FN= 82\n",
            "\n",
            "Accuracy score is 0.9939085829440323\n",
            "\n",
            "Detection rate: 0.9925\n",
            "\n",
            "False alarm rate: 0.0047\n",
            "\n",
            "Precision: 0.9953193832599119\n",
            "\n",
            "Recall: 0.9924956529697081\n",
            "\n",
            "F-score: 0.9939055125326489\n"
          ]
        }
      ]
    },
    {
      "cell_type": "code",
      "source": [
        "# Plot accuracy and mean squared error\n",
        "plt.plot(history.history['acc'], color='blue')\n",
        "plt.plot(history.history['val_acc'], color='green')\n",
        "plt.title('Model Accuracy')\n",
        "plt.xlabel('Epoch')\n",
        "plt.ylabel('Accuracy')\n",
        "plt.legend(['Training', 'Validation'], loc='lower right')\n",
        "plt.show()"
      ],
      "metadata": {
        "colab": {
          "base_uri": "https://localhost:8080/",
          "height": 472
        },
        "id": "Ag75ytdQS6sU",
        "outputId": "8384cb2d-3c0b-4028-f0a5-60a49de6624d"
      },
      "execution_count": null,
      "outputs": [
        {
          "output_type": "display_data",
          "data": {
            "text/plain": [
              "<Figure size 640x480 with 1 Axes>"
            ],
            "image/png": "[encoded data removed]"
          },
          "metadata": {}
        }
      ]
    },
    {
      "cell_type": "code",
      "execution_count": null,
      "metadata": {
        "colab": {
          "base_uri": "https://localhost:8080/",
          "height": 472
        },
        "id": "GU9I2WXdR1rY",
        "outputId": "c21ed059-05b2-4f61-cd05-4ca56decf523"
      },
      "outputs": [
        {
          "output_type": "display_data",
          "data": {
            "text/plain": [
              "<Figure size 640x480 with 1 Axes>"
            ],
            "image/png": "[encoded data removed]"
          },
          "metadata": {}
        }
      ],
      "source": [
        "plt.plot(history.history['mse'], color='blue')\n",
        "plt.plot(history.history['val_mse'], color='red')\n",
        "plt.title('Mean Squared Error')\n",
        "plt.xlabel('Epoch')\n",
        "plt.ylabel('Mean Squared Error')\n",
        "plt.legend(['Training', 'Validation'], loc='upper right')\n",
        "plt.show()"
      ]
    },
    {
      "cell_type": "code",
      "source": [],
      "metadata": {
        "id": "p73sQopPVPOM"
      },
      "execution_count": null,
      "outputs": []
    }
  ]
}